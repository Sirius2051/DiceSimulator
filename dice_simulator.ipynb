{
 "cells": [
  {
   "cell_type": "code",
   "execution_count": null,
   "id": "c10d3156-d978-45e4-8d9f-7811fd0667aa",
   "metadata": {},
   "outputs": [
    {
     "name": "stdin",
     "output_type": "stream",
     "text": [
      "Por favor, ingrese el numero de dados que necesita, entre uno y siete: \n",
      " 8\n"
     ]
    },
    {
     "name": "stdout",
     "output_type": "stream",
     "text": [
      "El numero que ingresaste es mayor\n"
     ]
    },
    {
     "name": "stdin",
     "output_type": "stream",
     "text": [
      "Por favor, ingrese el numero de dados que necesita, entre uno y siete: \n",
      " 7\n"
     ]
    },
    {
     "name": "stdout",
     "output_type": "stream",
     "text": [
      "The result is: 5 \n",
      "  |o   o| \n",
      "  |  o  | \n",
      "  |o   o|\n",
      "The result is: 1 \n",
      "  |     | \n",
      "  |  o  | \n",
      "  |     |\n",
      "The result is: 6 \n",
      "  |o   o| \n",
      "  |o   o| \n",
      "  |o   o|\n",
      "The result is: 1 \n",
      "  |     | \n",
      "  |  o  | \n",
      "  |     |\n",
      "The result is: 2 \n",
      "  | o   | \n",
      "  |     | \n",
      "  |   o |\n",
      "The result is: 1 \n",
      "  |     | \n",
      "  |  o  | \n",
      "  |     |\n",
      "The result is: 1 \n",
      "  |     | \n",
      "  |  o  | \n",
      "  |     |\n",
      "The global result is:  17\n"
     ]
    }
   ],
   "source": [
    "import random\n",
    "\n",
    "\n",
    "\n",
    "n_1 = \" |     | \\n  |  o  | \\n  |     |\"\n",
    "n_2 = \" | o   | \\n  |     | \\n  |   o |\"\n",
    "n_3 = \" | o   | \\n  |  o  | \\n  |   o |\"\n",
    "n_4 = \" |o   o| \\n  |     | \\n  |o   o|\"\n",
    "n_5 = \" |o   o| \\n  |  o  | \\n  |o   o|\"\n",
    "n_6 = \" |o   o| \\n  |o   o| \\n  |o   o|\"\n",
    "\n",
    "def main():\n",
    "    dice_number = input(\"Por favor, ingrese el numero de dados que necesita, entre uno y siete: \\n\")\n",
    "\n",
    "    try:\n",
    "        n = int(dice_number)\n",
    "    except:\n",
    "        print(\"Ocurrio un error, no ingresaste un numero entero\")\n",
    "        main()\n",
    "        \n",
    "    if n < 8:\n",
    "        x = \"y\"\n",
    "        faces = [n_1, n_2, n_3, n_4, n_5, n_6]\n",
    "        dices_results = []\n",
    "        while x == \"y\":\n",
    "            for i in range(n):\n",
    "                dices_results.append(random.randint(1, 6))\n",
    "                \n",
    "            for r in range(len(dices_results)):\n",
    "#                 print(r)\n",
    "                if dices_results[r] == 1:\n",
    "                    print(\"The result is: 1 \\n\", n_1)\n",
    "                elif dices_results[r] == 2:\n",
    "                    print(\"The result is: 2 \\n\", n_2)\n",
    "                elif dices_results[r] == 3:\n",
    "                    print(\"The result is: 3 \\n\", n_3)\n",
    "                elif dices_results[r] == 4:\n",
    "                    print(\"The result is: 4 \\n\", n_4)\n",
    "                elif dices_results[r] == 5:\n",
    "                    print(\"The result is: 5 \\n\", n_5)\n",
    "                elif dices_results[r] == 6:\n",
    "                    print(\"The result is: 6 \\n\", n_6)\n",
    "            print(\"The global result is: \", sum(dices_results))\n",
    "            \n",
    "            dices_results = []\n",
    "            x = input(\"press 'y' to roll again or 'n' to exit\\n\")\n",
    "\n",
    "    else:\n",
    "        print(\"El numero que ingresaste es mayor\")\n",
    "        main()\n",
    "\n",
    "    \n",
    "\n",
    "main()\n",
    "#     print(\"\\n\")"
   ]
  }
 ],
 "metadata": {
  "kernelspec": {
   "display_name": "Python 3",
   "language": "python",
   "name": "python3"
  },
  "language_info": {
   "codemirror_mode": {
    "name": "ipython",
    "version": 3
   },
   "file_extension": ".py",
   "mimetype": "text/x-python",
   "name": "python",
   "nbconvert_exporter": "python",
   "pygments_lexer": "ipython3",
   "version": "3.9.5"
  }
 },
 "nbformat": 4,
 "nbformat_minor": 5
}
